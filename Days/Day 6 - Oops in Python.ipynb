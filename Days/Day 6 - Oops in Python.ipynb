{
 "cells": [
  {
   "cell_type": "markdown",
   "metadata": {},
   "source": [
    "# Classes & Objects"
   ]
  },
  {
   "cell_type": "markdown",
   "metadata": {},
   "source": [
    "class-keyword"
   ]
  },
  {
   "cell_type": "markdown",
   "metadata": {},
   "source": [
    "class firstclass:\n",
    "    'docstring'\n",
    "    def __init__(self,var1,var2):\n",
    "        self.var1=var1\n",
    "        self.var2=var2\n",
    "        .\n",
    "        .\n",
    "    def myfunc(self):\n",
    "        print(self.var1)\n",
    "        print(self.var2)\n",
    "        "
   ]
  },
  {
   "cell_type": "code",
   "execution_count": 1,
   "metadata": {},
   "outputs": [
    {
     "name": "stdout",
     "output_type": "stream",
     "text": [
      "50\n"
     ]
    }
   ],
   "source": [
    "class firstclass:\n",
    "    var1=50\n",
    "obj1=firstclass() #create an object\n",
    "print(obj1.var1)"
   ]
  },
  {
   "cell_type": "code",
   "execution_count": 4,
   "metadata": {},
   "outputs": [
    {
     "name": "stdout",
     "output_type": "stream",
     "text": [
      "Name :-  Shivam\n",
      "Employee ID :-  1234\n",
      "Age :-  23\n",
      "Thanks for joining SmartBridge company Shivam !!\n"
     ]
    }
   ],
   "source": [
    "#create an Employee Class\n",
    "class Employee:\n",
    "    def __init__(self,name,empid,age):\n",
    "        self.name=name\n",
    "        self.empid=empid\n",
    "        self.age=age\n",
    "        \n",
    "    def greet(self):\n",
    "        print(\"Thanks for joining SmartBridge company {} !!\".format(self.name))\n",
    "        \n",
    "emp1=Employee(\"Shivam\",1234,23) #object\n",
    "\n",
    "print('Name :- ',emp1.name)\n",
    "print('Employee ID :- ',emp1.empid)\n",
    "print('Age :- ',emp1.age)\n",
    "emp1.greet()"
   ]
  },
  {
   "cell_type": "code",
   "execution_count": 5,
   "metadata": {},
   "outputs": [],
   "source": [
    "emp1.name=\"Suryansh\" #modify the object properties"
   ]
  },
  {
   "cell_type": "code",
   "execution_count": 6,
   "metadata": {},
   "outputs": [
    {
     "name": "stdout",
     "output_type": "stream",
     "text": [
      "Name :-  Suryansh\n",
      "Employee ID :-  1234\n",
      "Age :-  23\n",
      "Thanks for joining SmartBridge company Suryansh !!\n"
     ]
    }
   ],
   "source": [
    "print('Name :- ',emp1.name)\n",
    "print('Employee ID :- ',emp1.empid)\n",
    "print('Age :- ',emp1.age)\n",
    "emp1.greet()"
   ]
  },
  {
   "cell_type": "code",
   "execution_count": 7,
   "metadata": {},
   "outputs": [],
   "source": [
    "del emp1.age #delete the object properties\n"
   ]
  },
  {
   "cell_type": "code",
   "execution_count": 8,
   "metadata": {},
   "outputs": [
    {
     "data": {
      "text/plain": [
       "'Suryansh'"
      ]
     },
     "execution_count": 8,
     "metadata": {},
     "output_type": "execute_result"
    }
   ],
   "source": [
    "emp1.name"
   ]
  },
  {
   "cell_type": "code",
   "execution_count": 9,
   "metadata": {},
   "outputs": [
    {
     "ename": "AttributeError",
     "evalue": "'Employee' object has no attribute 'age'",
     "output_type": "error",
     "traceback": [
      "\u001b[1;31m---------------------------------------------------------------------------\u001b[0m",
      "\u001b[1;31mAttributeError\u001b[0m                            Traceback (most recent call last)",
      "\u001b[1;32m<ipython-input-9-0d569e33fad3>\u001b[0m in \u001b[0;36m<module>\u001b[1;34m\u001b[0m\n\u001b[1;32m----> 1\u001b[1;33m \u001b[0memp1\u001b[0m\u001b[1;33m.\u001b[0m\u001b[0mage\u001b[0m\u001b[1;33m\u001b[0m\u001b[1;33m\u001b[0m\u001b[0m\n\u001b[0m",
      "\u001b[1;31mAttributeError\u001b[0m: 'Employee' object has no attribute 'age'"
     ]
    }
   ],
   "source": [
    "emp1.age"
   ]
  },
  {
   "cell_type": "code",
   "execution_count": 10,
   "metadata": {},
   "outputs": [],
   "source": [
    "del emp1 # delete the object"
   ]
  },
  {
   "cell_type": "code",
   "execution_count": 11,
   "metadata": {},
   "outputs": [
    {
     "ename": "NameError",
     "evalue": "name 'emp1' is not defined",
     "output_type": "error",
     "traceback": [
      "\u001b[1;31m---------------------------------------------------------------------------\u001b[0m",
      "\u001b[1;31mNameError\u001b[0m                                 Traceback (most recent call last)",
      "\u001b[1;32m<ipython-input-11-54557b1bd061>\u001b[0m in \u001b[0;36m<module>\u001b[1;34m\u001b[0m\n\u001b[1;32m----> 1\u001b[1;33m \u001b[0memp1\u001b[0m\u001b[1;33m.\u001b[0m\u001b[0mname\u001b[0m\u001b[1;33m\u001b[0m\u001b[1;33m\u001b[0m\u001b[0m\n\u001b[0m",
      "\u001b[1;31mNameError\u001b[0m: name 'emp1' is not defined"
     ]
    }
   ],
   "source": [
    "emp1.name"
   ]
  },
  {
   "cell_type": "code",
   "execution_count": 12,
   "metadata": {},
   "outputs": [
    {
     "name": "stdout",
     "output_type": "stream",
     "text": [
      "Name :-  Prashant\n",
      "Employee ID :-  128734\n",
      "Age :-  25\n",
      "Thanks for joining SmartBridge company Prashant !!\n"
     ]
    }
   ],
   "source": [
    "emp2=Employee(\"Prashant\",128734,25) #object\n",
    "\n",
    "print('Name :- ',emp2.name)\n",
    "print('Employee ID :- ',emp2.empid)\n",
    "print('Age :- ',emp2.age)\n",
    "emp2.greet()"
   ]
  },
  {
   "cell_type": "code",
   "execution_count": 13,
   "metadata": {},
   "outputs": [],
   "source": [
    "emp2.location=\"Hyderabad\" #instance variable can be created manually"
   ]
  },
  {
   "cell_type": "code",
   "execution_count": 14,
   "metadata": {},
   "outputs": [
    {
     "data": {
      "text/plain": [
       "'Hyderabad'"
      ]
     },
     "execution_count": 14,
     "metadata": {},
     "output_type": "execute_result"
    }
   ],
   "source": [
    "emp2.location"
   ]
  },
  {
   "cell_type": "markdown",
   "metadata": {},
   "source": [
    "# Inheritance"
   ]
  },
  {
   "cell_type": "code",
   "execution_count": 17,
   "metadata": {},
   "outputs": [
    {
     "name": "stdout",
     "output_type": "stream",
     "text": [
      "Student Details\n",
      "Name :-  Shivam\n",
      "Age :-  23\n",
      "Gender:-  Male\n",
      "Student_id :-  1234\n",
      "Fees:-  85000\n",
      "\n",
      "*****************************\n",
      "\n",
      "Teacher Details\n",
      "Name :-  Prashant\n",
      "Age :-  25\n",
      "Gender:-  Male\n",
      "Employee_id :-  6511\n",
      "Salary:-  50000\n"
     ]
    }
   ],
   "source": [
    "class Person:  #parent class\n",
    "    def __init__(self,name,age,gender):\n",
    "        self.name=name\n",
    "        self.gender=gender\n",
    "        self.age=age\n",
    "        \n",
    "    def personal_info(self):\n",
    "        print(\"Name :-  {}\".format(self.name))\n",
    "        print(\"Age :-  {}\".format(self.age))\n",
    "        print(\"Gender:-  {}\".format(self.gender))\n",
    "\n",
    "class Student(Person): #child class\n",
    "    def __init__(self,name,age,gender,student_id,fees):\n",
    "        Person.__init__(self,name,age,gender,)\n",
    "        self.student_id=student_id\n",
    "        self.fees=fees\n",
    "        \n",
    "    def student_info(self):\n",
    "        print(\"Student_id :-  {}\".format(self.student_id))\n",
    "        print(\"Fees:-  {}\".format(self.fees))\n",
    "\n",
    "class Teacher(Person): #child class\n",
    "    def __init__(self,name,age,gender,emp_id,salary):\n",
    "        Person.__init__(self,name,age,gender,)\n",
    "        self.emp_id=emp_id\n",
    "        self.salary=salary\n",
    "        \n",
    "    def teacher_info(self):\n",
    "        print(\"Employee_id :-  {}\".format(self.emp_id))\n",
    "        print(\"Salary:-  {}\".format(self.salary))\n",
    "        \n",
    "\n",
    "stud1=Student('Shivam',23,'Male',1234,85000)\n",
    "print(\"Student Details\")\n",
    "stud1.personal_info()\n",
    "stud1.student_info()\n",
    "\n",
    "print('')\n",
    "print('*****************************')\n",
    "print('')\n",
    "\n",
    "teach1=Teacher('Prashant',25,'Male',6511,50000)\n",
    "print(\"Teacher Details\")\n",
    "teach1.personal_info()\n",
    "teach1.teacher_info()\n",
    "            \n",
    "    \n",
    "        \n",
    "    "
   ]
  },
  {
   "cell_type": "code",
   "execution_count": 18,
   "metadata": {},
   "outputs": [
    {
     "name": "stdout",
     "output_type": "stream",
     "text": [
      "Student Details\n",
      "Name :-  Shivam\n",
      "Age :-  23\n",
      "Gender:-  Male\n",
      "Student_id :-  1234\n",
      "Fees:-  85000\n"
     ]
    }
   ],
   "source": [
    "class Person:  #parent class\n",
    "    def __init__(self,name,age,gender):\n",
    "        self.name=name\n",
    "        self.gender=gender\n",
    "        self.age=age\n",
    "        \n",
    "    def personal_info(self):\n",
    "        print(\"Name :-  {}\".format(self.name))\n",
    "        print(\"Age :-  {}\".format(self.age))\n",
    "        print(\"Gender:-  {}\".format(self.gender))\n",
    "\n",
    "class Student(Person): #child class\n",
    "    def __init__(self,name,age,gender,student_id,fees):\n",
    "        super().__init__(name,age,gender,)\n",
    "        self.student_id=student_id\n",
    "        self.fees=fees\n",
    "        \n",
    "    def student_info(self):\n",
    "        super().personal_info()\n",
    "        print(\"Student_id :-  {}\".format(self.student_id))\n",
    "        print(\"Fees:-  {}\".format(self.fees))\n",
    "        \n",
    "stud2=Student('Shivam',23,'Male',1234,85000)\n",
    "print(\"Student Details\")\n",
    "stud2.student_info()"
   ]
  },
  {
   "cell_type": "markdown",
   "metadata": {},
   "source": [
    "# Multi-Level Inheritance"
   ]
  },
  {
   "cell_type": "code",
   "execution_count": 21,
   "metadata": {},
   "outputs": [
    {
     "name": "stdout",
     "output_type": "stream",
     "text": [
      "Fulltime Employee Details\n",
      "Name :-  Shivam\n",
      "Age :-  23\n",
      "Gender:-  Male\n",
      "Employee_id :-  1234\n",
      "Salary:-  50000\n",
      "Work_Experience :-  5 years\n",
      "\n",
      "*****************************\n",
      "\n",
      "Contract Based Employee Details\n",
      "Name :-  Suryansh\n",
      "Age :-  26\n",
      "Gender:-  Male\n",
      "Employee_id :-  1111\n",
      "Salary:-  30000\n",
      "Contract_Time_Month :-  1 month\n"
     ]
    }
   ],
   "source": [
    "class Person:  #parent class\n",
    "    def __init__(self,name,age,gender):\n",
    "        self.name=name\n",
    "        self.gender=gender\n",
    "        self.age=age\n",
    "        \n",
    "    def personal_info(self):\n",
    "        print(\"Name :-  {}\".format(self.name))\n",
    "        print(\"Age :-  {}\".format(self.age))\n",
    "        print(\"Gender:-  {}\".format(self.gender))\n",
    "\n",
    "class Employee(Person): #child class\n",
    "    def __init__(self,name,age,gender,emp_id,salary):\n",
    "        Person.__init__(self,name,age,gender,)\n",
    "        self.emp_id=emp_id\n",
    "        self.salary=salary\n",
    "        \n",
    "    def employee_info(self):\n",
    "        print(\"Employee_id :-  {}\".format(self.emp_id))\n",
    "        print(\"Salary:-  {}\".format(self.salary))\n",
    "        \n",
    "        \n",
    "class Fulltime(Employee): # Grand child class\n",
    "    def __init__(self,name,age,gender,emp_id,salary,work_experience):\n",
    "        Employee.__init__(self,name,age,gender,emp_id,salary)\n",
    "        self.work_experience=work_experience\n",
    "       \n",
    "    def fulltime_info(self):\n",
    "        print(\"Work_Experience :-  {} years\".format(self.work_experience))\n",
    "\n",
    "class Contract(Employee): # Grand child class\n",
    "    def __init__(self,name,age,gender,emp_id,salary,contract_time):\n",
    "        Employee.__init__(self,name,age,gender,emp_id,salary)\n",
    "        self.contract_time=contract_time\n",
    "       \n",
    "    def contract_info(self):\n",
    "        print(\"Contract_Time_Month :-  {} month\".format(self.contract_time))\n",
    "        \n",
    "print('Fulltime Employee Details')\n",
    "fulltime1=Fulltime('Shivam',23,\"Male\",1234,50000,5)\n",
    "fulltime1.personal_info()\n",
    "fulltime1.employee_info()\n",
    "fulltime1.fulltime_info()\n",
    "\n",
    "print('')\n",
    "print('*****************************')\n",
    "print('')\n",
    "\n",
    "print('Contract Based Employee Details')\n",
    "contract1=Contract('Suryansh',26,\"Male\",1111,30000,1)\n",
    "contract1.personal_info()\n",
    "contract1.employee_info()\n",
    "contract1.contract_info()\n"
   ]
  },
  {
   "cell_type": "markdown",
   "metadata": {},
   "source": [
    "# Multiple Inheritance"
   ]
  },
  {
   "cell_type": "code",
   "execution_count": 25,
   "metadata": {},
   "outputs": [
    {
     "name": "stdout",
     "output_type": "stream",
     "text": [
      "Son_Name:-  Shivansh\n",
      "Father_Name:-  Anikesh\n",
      "Mother_Name:-  Priyanka\n"
     ]
    }
   ],
   "source": [
    "#Parent Class\n",
    "class Father:\n",
    "    def __init__(self):\n",
    "        self.father_name=str()\n",
    "        \n",
    "#Parent Class\n",
    "class Mother:\n",
    "    def __init__(self):\n",
    "        self.mother_name=str()\n",
    "\n",
    "#Derived Class\n",
    "class Son(Father,Mother):\n",
    "    son_name=str()\n",
    "    \n",
    "    def show(self):\n",
    "        print('Son_Name:- ',self.son_name)\n",
    "        print('Father_Name:- ',self.father_name)\n",
    "        print('Mother_Name:- ',self.mother_name)\n",
    "\n",
    "son1=Son()\n",
    "son1.son_name='Shivansh'\n",
    "son1.father_name='Anikesh'\n",
    "son1.mother_name='Priyanka'\n",
    "son1.show()\n"
   ]
  },
  {
   "cell_type": "markdown",
   "metadata": {},
   "source": [
    "# Method Overiding"
   ]
  },
  {
   "cell_type": "code",
   "execution_count": 28,
   "metadata": {},
   "outputs": [
    {
     "name": "stdout",
     "output_type": "stream",
     "text": [
      "Hello Student Class\n",
      "Hello Person Class\n"
     ]
    }
   ],
   "source": [
    "class Person:  #parent class\n",
    "    def __init__(self,name,age,gender):\n",
    "        self.name=name\n",
    "        self.gender=gender\n",
    "        self.age=age\n",
    "        \n",
    "    def greet(self):\n",
    "        print(\"Hello Person Class\")\n",
    "        \n",
    "\n",
    "class Student(Person): #child class\n",
    "    def __init__(self,name,age,gender,student_id,fees):\n",
    "        super().__init__(name,age,gender,)\n",
    "        self.student_id=student_id\n",
    "        self.fees=fees\n",
    "        \n",
    "    def greet(self):\n",
    "        print(\"Hello Student Class\")\n",
    "        \n",
    "stud3=Student('Shivam',23,'Male',1234,85000)\n",
    "stud3.greet()\n",
    "person3=Person('Suryansh',25,'Male')\n",
    "person3.greet()"
   ]
  },
  {
   "cell_type": "code",
   "execution_count": null,
   "metadata": {},
   "outputs": [],
   "source": []
  }
 ],
 "metadata": {
  "kernelspec": {
   "display_name": "Python 3",
   "language": "python",
   "name": "python3"
  },
  "language_info": {
   "codemirror_mode": {
    "name": "ipython",
    "version": 3
   },
   "file_extension": ".py",
   "mimetype": "text/x-python",
   "name": "python",
   "nbconvert_exporter": "python",
   "pygments_lexer": "ipython3",
   "version": "3.8.5"
  }
 },
 "nbformat": 4,
 "nbformat_minor": 4
}
